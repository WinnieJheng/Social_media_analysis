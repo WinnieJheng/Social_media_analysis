{
 "cells": [
  {
   "cell_type": "code",
   "execution_count": 13,
   "metadata": {
    "scrolled": false
   },
   "outputs": [
    {
     "name": "stdout",
     "output_type": "stream",
     "text": [
      "http://ptt.cc/bbs/Hualien/M.1480258613.A.350.html\n",
      "http://ptt.cc/bbs/Hualien/M.1486993495.A.7CF.html\n",
      "http://ptt.cc/bbs/Hualien/M.1537525546.A.F95.html\n"
     ]
    },
    {
     "ename": "ValueError",
     "evalue": "substring not found",
     "output_type": "error",
     "traceback": [
      "\u001b[1;31m---------------------------------------------------------------------------\u001b[0m",
      "\u001b[1;31mValueError\u001b[0m                                Traceback (most recent call last)",
      "\u001b[1;32m<ipython-input-13-92300085446d>\u001b[0m in \u001b[0;36m<module>\u001b[1;34m\u001b[0m\n\u001b[0;32m     23\u001b[0m     \u001b[0mcontent\u001b[0m \u001b[1;33m=\u001b[0m \u001b[0mre\u001b[0m\u001b[1;33m.\u001b[0m\u001b[0msub\u001b[0m\u001b[1;33m(\u001b[0m\u001b[1;34mr'(\\s)+'\u001b[0m\u001b[1;33m,\u001b[0m \u001b[1;34m''\u001b[0m\u001b[1;33m,\u001b[0m \u001b[0mcontent\u001b[0m\u001b[1;33m)\u001b[0m\u001b[1;33m\u001b[0m\u001b[1;33m\u001b[0m\u001b[0m\n\u001b[0;32m     24\u001b[0m     \u001b[1;31m#.index = 找出某值第一個匹配項目\u001b[0m\u001b[1;33m\u001b[0m\u001b[1;33m\u001b[0m\u001b[1;33m\u001b[0m\u001b[0m\n\u001b[1;32m---> 25\u001b[1;33m     \u001b[0mnumber_start\u001b[0m \u001b[1;33m=\u001b[0m \u001b[0mcontent\u001b[0m\u001b[1;33m.\u001b[0m\u001b[0mindex\u001b[0m\u001b[1;33m(\u001b[0m\u001b[1;34mu'標題'\u001b[0m\u001b[1;33m)\u001b[0m\u001b[1;33m\u001b[0m\u001b[1;33m\u001b[0m\u001b[0m\n\u001b[0m\u001b[0;32m     26\u001b[0m     \u001b[0mnumber_end\u001b[0m \u001b[1;33m=\u001b[0m \u001b[0mcontent\u001b[0m\u001b[1;33m.\u001b[0m\u001b[0mindex\u001b[0m\u001b[1;33m(\u001b[0m\u001b[1;34mu'--'\u001b[0m\u001b[1;33m)\u001b[0m\u001b[1;33m\u001b[0m\u001b[1;33m\u001b[0m\u001b[0m\n\u001b[0;32m     27\u001b[0m     \u001b[0mfinal\u001b[0m \u001b[1;33m=\u001b[0m \u001b[0mcontent\u001b[0m\u001b[1;33m[\u001b[0m\u001b[0mnumber_start\u001b[0m \u001b[1;33m:\u001b[0m \u001b[0mnumber_end\u001b[0m\u001b[1;33m]\u001b[0m\u001b[1;33m\u001b[0m\u001b[1;33m\u001b[0m\u001b[0m\n",
      "\u001b[1;31mValueError\u001b[0m: substring not found"
     ]
    }
   ],
   "source": [
    "import requests\n",
    "from bs4 import BeautifulSoup\n",
    "import re\n",
    "from pandas import Series,DataFrame\n",
    "import pandas as pd\n",
    "\n",
    "comments = list()\n",
    "\n",
    "a = 1\n",
    "while a == 1:\n",
    "    comment_url = input()\n",
    "    if comment_url == '0':\n",
    "        break\n",
    "    resp = requests.get(comment_url)\n",
    "    soup = BeautifulSoup(resp.text, 'html.parser')\n",
    "\n",
    "    main_content = soup.find(id=\"main-content\")\n",
    "    filtered = [ v for v in main_content.stripped_strings if v[0] not in [u'※',\n",
    "    u'◆']]\n",
    "    # 正則表達式\"u\"表示按utf-8分配\n",
    "    #stripped_strings在beautifulsoup裡，可以消除多餘空白內容\n",
    "    content = ' '.join(filtered)\n",
    "    content = re.sub(r'(\\s)+', '', content)\n",
    "    #.index = 找出某值第一個匹配項目\n",
    "    number_start = content.index(u'標題')\n",
    "    number_end = content.index(u'--')\n",
    "    final = content[number_start : number_end]\n",
    "\n",
    "    final_1 = re.sub('https://[a-zA-Z0-9\\./_-]+|↓https://[a-zA-Z0-9\\./_-]+|http://[a-zA-Z0-9\\./_-]+','',final)\n",
    "    \n",
    "    comments.append(final_1)\n",
    "    \n",
    "    final_1 = 0\n",
    "    comment_url = 0\n"
   ]
  },
  {
   "cell_type": "code",
   "execution_count": 9,
   "metadata": {},
   "outputs": [
    {
     "name": "stdout",
     "output_type": "stream",
     "text": [
      "                                                  評論\n",
      "0  標題有沒有人家裡狗狗走丟？時間SunNov315:03:282019如題剛剛去美崙山在大草原...\n"
     ]
    }
   ],
   "source": [
    "title=['評論']\n",
    "dataset = pd.DataFrame(columns=title, data=comments)\n",
    "print(dataset)\n",
    "dataset.to_csv('D:\\資工所\\碩士論文\\花蓮旅遊輿情分析\\coding\\ptt花蓮輿情分析完整版\\comments.csv', encoding=\"utf-8-sig\")"
   ]
  }
 ],
 "metadata": {
  "kernelspec": {
   "display_name": "Python 3",
   "language": "python",
   "name": "python3"
  },
  "language_info": {
   "codemirror_mode": {
    "name": "ipython",
    "version": 3
   },
   "file_extension": ".py",
   "mimetype": "text/x-python",
   "name": "python",
   "nbconvert_exporter": "python",
   "pygments_lexer": "ipython3",
   "version": "3.7.4"
  }
 },
 "nbformat": 4,
 "nbformat_minor": 2
}
